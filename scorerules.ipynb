{
 "metadata": {
  "name": "",
  "signature": "sha256:065531eb6d4d16ed0a0c272e5edb5b26139c0fe383f32da25c23e1c5473548ce"
 },
 "nbformat": 3,
 "nbformat_minor": 0,
 "worksheets": [
  {
   "cells": [
    {
     "cell_type": "markdown",
     "metadata": {},
     "source": [
      "Players will accumulate points as follows:\n",
      "* Point = +1 PT\n",
      "* Made 3pt. shot = +0.5 PTs\n",
      "* Rebound = +1.25 PTs\n",
      "* Assist = +1.5 PTs\n",
      "* Steal = +2 PTs\n",
      "* Block = +2 PTs\n",
      "* Turnover = -0.5 PTs\n",
      "* Double-Double = +1.5PTs (MAX 1 PER PLAYER: Points, Rebounds, Assists, Blocks, Steals)\n",
      "* Triple-Double = +3PTs (MAX 1 PER PLAYER: Points, Rebounds, Assists, Blocks, Steals)"
     ]
    },
    {
     "cell_type": "code",
     "collapsed": false,
     "input": [
      "import math"
     ],
     "language": "python",
     "metadata": {},
     "outputs": [],
     "prompt_number": 1
    },
    {
     "cell_type": "code",
     "collapsed": false,
     "input": [
      "def playerScore(stats, fullOutput=False):\n",
      "    FPs = {}\n",
      "    FPs['points'] = stats['points']\n",
      "    FPs['made_3s'] = 0.5 * stats['made_3s']\n",
      "    FPs['rebounds'] = 1.25 * stats['rebounds']\n",
      "    FPs['assists'] = 1.5 * stats['assists']\n",
      "    FPs['steals'] = 2 * stats['steals']\n",
      "    FPs['blocks'] = 2 * stats['blocks']\n",
      "    FPs['turnovers'] = -0.5 * stats['turnovers']\n",
      "    \n",
      "    num_doubles = max(1, min(3, sum([int(math.log(stats[x], 10)) for x in double_category])))\n",
      "    FPs['k-doubles'] = {1: 0, 2: 1.5, 3: 3}[num_doubles]\n",
      "    \n",
      "    if fullOutput:\n",
      "        return sum(FPs.values()), FPs\n",
      "    else:\n",
      "        return sum(FPs.values())"
     ],
     "language": "python",
     "metadata": {},
     "outputs": [],
     "prompt_number": 3
    },
    {
     "cell_type": "code",
     "collapsed": false,
     "input": [
      "stats1 = {'points': 50,\n",
      "          'made_3s': 5,\n",
      "          'rebounds': 4,\n",
      "          'assists': 6,\n",
      "          'steals': 3,\n",
      "          'blocks': 0,\n",
      "          'turnovers': 1}\n",
      "\n",
      "playerScore(stats1)"
     ],
     "language": "python",
     "metadata": {},
     "outputs": [
      {
       "ename": "ValueError",
       "evalue": "math domain error",
       "output_type": "pyerr",
       "traceback": [
        "\u001b[1;31m---------------------------------------------------------------------------\u001b[0m\n\u001b[1;31mValueError\u001b[0m                                Traceback (most recent call last)",
        "\u001b[1;32m<ipython-input-4-1845d796acd4>\u001b[0m in \u001b[0;36m<module>\u001b[1;34m()\u001b[0m\n\u001b[0;32m      7\u001b[0m           'turnovers': 1}\n\u001b[0;32m      8\u001b[0m \u001b[1;33m\u001b[0m\u001b[0m\n\u001b[1;32m----> 9\u001b[1;33m \u001b[0mplayerScore\u001b[0m\u001b[1;33m(\u001b[0m\u001b[0mstats1\u001b[0m\u001b[1;33m)\u001b[0m\u001b[1;33m\u001b[0m\u001b[0m\n\u001b[0m",
        "\u001b[1;32m<ipython-input-3-36abe5cbb4b1>\u001b[0m in \u001b[0;36mplayerScore\u001b[1;34m(stats, fullOutput)\u001b[0m\n\u001b[0;32m      9\u001b[0m     \u001b[0mFPs\u001b[0m\u001b[1;33m[\u001b[0m\u001b[1;34m'turnovers'\u001b[0m\u001b[1;33m]\u001b[0m \u001b[1;33m=\u001b[0m \u001b[1;33m-\u001b[0m\u001b[1;36m0.5\u001b[0m \u001b[1;33m*\u001b[0m \u001b[0mstats\u001b[0m\u001b[1;33m[\u001b[0m\u001b[1;34m'turnovers'\u001b[0m\u001b[1;33m]\u001b[0m\u001b[1;33m\u001b[0m\u001b[0m\n\u001b[0;32m     10\u001b[0m \u001b[1;33m\u001b[0m\u001b[0m\n\u001b[1;32m---> 11\u001b[1;33m     \u001b[0mnum_doubles\u001b[0m \u001b[1;33m=\u001b[0m \u001b[0mmax\u001b[0m\u001b[1;33m(\u001b[0m\u001b[1;36m1\u001b[0m\u001b[1;33m,\u001b[0m \u001b[0mmin\u001b[0m\u001b[1;33m(\u001b[0m\u001b[1;36m3\u001b[0m\u001b[1;33m,\u001b[0m \u001b[0msum\u001b[0m\u001b[1;33m(\u001b[0m\u001b[1;33m[\u001b[0m\u001b[0mint\u001b[0m\u001b[1;33m(\u001b[0m\u001b[0mmath\u001b[0m\u001b[1;33m.\u001b[0m\u001b[0mlog\u001b[0m\u001b[1;33m(\u001b[0m\u001b[0mx\u001b[0m\u001b[1;33m,\u001b[0m \u001b[1;36m10\u001b[0m\u001b[1;33m)\u001b[0m\u001b[1;33m)\u001b[0m \u001b[1;32mfor\u001b[0m \u001b[0mx\u001b[0m \u001b[1;32min\u001b[0m \u001b[0mstats\u001b[0m\u001b[1;33m.\u001b[0m\u001b[0mvalues\u001b[0m\u001b[1;33m(\u001b[0m\u001b[1;33m)\u001b[0m\u001b[1;33m]\u001b[0m\u001b[1;33m)\u001b[0m\u001b[1;33m)\u001b[0m\u001b[1;33m)\u001b[0m\u001b[1;33m\u001b[0m\u001b[0m\n\u001b[0m\u001b[0;32m     12\u001b[0m     \u001b[0mFPs\u001b[0m\u001b[1;33m[\u001b[0m\u001b[1;34m'k-doubles'\u001b[0m\u001b[1;33m]\u001b[0m \u001b[1;33m=\u001b[0m \u001b[1;33m{\u001b[0m\u001b[1;36m1\u001b[0m\u001b[1;33m:\u001b[0m \u001b[1;36m0\u001b[0m\u001b[1;33m,\u001b[0m \u001b[1;36m2\u001b[0m\u001b[1;33m:\u001b[0m \u001b[1;36m1.5\u001b[0m\u001b[1;33m,\u001b[0m \u001b[1;36m3\u001b[0m\u001b[1;33m:\u001b[0m \u001b[1;36m3\u001b[0m\u001b[1;33m}\u001b[0m\u001b[1;33m[\u001b[0m\u001b[0mnum_doubles\u001b[0m\u001b[1;33m]\u001b[0m\u001b[1;33m\u001b[0m\u001b[0m\n\u001b[0;32m     13\u001b[0m \u001b[1;33m\u001b[0m\u001b[0m\n",
        "\u001b[1;31mValueError\u001b[0m: math domain error"
       ]
      }
     ],
     "prompt_number": 4
    },
    {
     "cell_type": "code",
     "collapsed": false,
     "input": [],
     "language": "python",
     "metadata": {},
     "outputs": []
    }
   ],
   "metadata": {}
  }
 ]
}