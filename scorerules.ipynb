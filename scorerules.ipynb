{
 "metadata": {
  "name": "",
  "signature": "sha256:8ceb9a3ebd11b2243bef271ae3e746a4a9a4c201589e484cc08fe4755b601273"
 },
 "nbformat": 3,
 "nbformat_minor": 0,
 "worksheets": [
  {
   "cells": [
    {
     "cell_type": "markdown",
     "metadata": {},
     "source": [
      "Players will accumulate points as follows:\n",
      "* Point = +1 PT\n",
      "* Made 3pt. shot = +0.5 PTs\n",
      "* Rebound = +1.25 PTs\n",
      "* Assist = +1.5 PTs\n",
      "* Steal = +2 PTs\n",
      "* Block = +2 PTs\n",
      "* Turnover = -0.5 PTs\n",
      "* Double-Double = +1.5PTs (MAX 1 PER PLAYER: Points, Rebounds, Assists, Blocks, Steals)\n",
      "* Triple-Double = +3PTs (MAX 1 PER PLAYER: Points, Rebounds, Assists, Blocks, Steals)"
     ]
    },
    {
     "cell_type": "code",
     "collapsed": false,
     "input": [
      "import math"
     ],
     "language": "python",
     "metadata": {},
     "outputs": [],
     "prompt_number": 1
    },
    {
     "cell_type": "code",
     "collapsed": false,
     "input": [
      "def playerScore(stats, fullOutput=False):\n",
      "    FPs = {}\n",
      "    FPs['points'] = stats['points']\n",
      "    FPs['made_3s'] = 0.5 * stats['made_3s']\n",
      "    FPs['rebounds'] = 1.25 * stats['rebounds']\n",
      "    FPs['assists'] = 1.5 * stats['assists']\n",
      "    FPs['steals'] = 2 * stats['steals']\n",
      "    FPs['blocks'] = 2 * stats['blocks']\n",
      "    FPs['turnovers'] = -0.5 * stats['turnovers']\n",
      "    \n",
      "    double_categories = ['points', 'rebounds', 'assists', 'blocks', 'steals']\n",
      "    num_doubles = max(1, min(3, sum([int(math.log(max(1,stats[x]), 10)) for x in double_categories])))\n",
      "    FPs['k-doubles'] = {1: 0, 2: 1.5, 3: 3}[num_doubles]\n",
      "    \n",
      "    if fullOutput:\n",
      "        return sum(FPs.values()), FPs\n",
      "    else:\n",
      "        return sum(FPs.values())"
     ],
     "language": "python",
     "metadata": {},
     "outputs": [],
     "prompt_number": 5
    },
    {
     "cell_type": "code",
     "collapsed": false,
     "input": [
      "stats1 = {'points': 50,\n",
      "          'made_3s': 5,\n",
      "          'rebounds': 4,\n",
      "          'assists': 6,\n",
      "          'steals': 3,\n",
      "          'blocks': 0,\n",
      "          'turnovers': 1}\n",
      "\n",
      "playerScore(stats1)"
     ],
     "language": "python",
     "metadata": {},
     "outputs": [
      {
       "metadata": {},
       "output_type": "pyout",
       "prompt_number": 6,
       "text": [
        "72.0"
       ]
      }
     ],
     "prompt_number": 6
    }
   ],
   "metadata": {}
  }
 ]
}