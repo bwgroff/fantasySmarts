{
 "metadata": {
  "name": "",
  "signature": "sha256:68319703a7f9777c4d860ffdc0f8467d685973d39c2b4eeb5119ba575cc3809d"
 },
 "nbformat": 3,
 "nbformat_minor": 0,
 "worksheets": [
  {
   "cells": [
    {
     "cell_type": "markdown",
     "metadata": {},
     "source": [
      "Players will accumulate points as follows:\n",
      "* Point = +1 PT\n",
      "* Made 3pt. shot = +0.5 PTs\n",
      "* Rebound = +1.25 PTs\n",
      "* Assist = +1.5 PTs\n",
      "* Steal = +2 PTs\n",
      "* Block = +2 PTs\n",
      "* Turnover = -0.5 PTs\n",
      "* Double-Double = +1.5PTs (MAX 1 PER PLAYER: Points, Rebounds, Assists, Blocks, Steals)\n",
      "* Triple-Double = +3PTs (MAX 1 PER PLAYER: Points, Rebounds, Assists, Blocks, Steals)"
     ]
    },
    {
     "cell_type": "code",
     "collapsed": false,
     "input": [
      "import math"
     ],
     "language": "python",
     "metadata": {},
     "outputs": [],
     "prompt_number": 1
    },
    {
     "cell_type": "code",
     "collapsed": false,
     "input": [
      "def playerScore(stats):\n",
      "    FPs = {}\n",
      "    FPs['points'] = stats['points']\n",
      "    FPs['made_3s'] = 0.5 * stats['made_3s']\n",
      "    FPs['rebounds'] = 1.25 * stats['rebounds']\n",
      "    FPs['assists'] = 1.5 * stats['assists']\n",
      "    FPs['steals'] = 2 * stats['steals']\n",
      "    FPs['blocks'] = 2 * stats['blocks']\n",
      "    FPs['turnovers'] = -0.5 * stats['turnovers']\n",
      "    \n",
      "    num_doubles = max(1, min(3, sum([int(math.log(x, 10)) for x in stats.values()])))\n",
      "    FPs['k-doubles'] = {1: 0, 2: 1.5, 3: 3}[num_doubles]\n",
      "    \n",
      "    return sum(FPs.values())"
     ],
     "language": "python",
     "metadata": {},
     "outputs": [],
     "prompt_number": 2
    },
    {
     "cell_type": "code",
     "collapsed": false,
     "input": [],
     "language": "python",
     "metadata": {},
     "outputs": []
    }
   ],
   "metadata": {}
  }
 ]
}