{
 "metadata": {
  "name": "",
  "signature": "sha256:85c61abcb9a667fe58b16ff4166eecc51f238996f27751f7b1dfcbf1473c459e"
 },
 "nbformat": 3,
 "nbformat_minor": 0,
 "worksheets": [
  {
   "cells": [
    {
     "cell_type": "code",
     "collapsed": false,
     "input": [
      "from bs4 import BeautifulSoup\n",
      "import requests\n",
      "import json\n",
      "import datetime\n",
      "from pymongo import MongoClient\n",
      "\n",
      "url = \"http://www.numberfire.com/nba/fantasy/full-fantasy-basketball-projections\""
     ],
     "language": "python",
     "metadata": {},
     "outputs": [],
     "prompt_number": 6
    },
    {
     "cell_type": "code",
     "collapsed": false,
     "input": [
      "def parse_page(url):\n",
      "    r = requests.get(url)\n",
      "    predspage = BeautifulSoup(r.text, 'html5lib')\n",
      "    scripts = predspage.find_all('script')\n",
      "    preds, other = scripts[2].text.split('\"daily_projections\":')[1].split(',\"teams\":')\n",
      "    teams, other = other.split(',\"team_analytics\":')\n",
      "    analytics, other = other.split(',\"players\":')\n",
      "    players = other.split('\\n\\t')[0][:-3]\n",
      "    ret = {\"predictions\": json.loads(preds),\n",
      "           \"teams\": json.loads(teams),\n",
      "           \"analytics\": json.loads(analytics),\n",
      "           \"players\": json.loads(players)}\n",
      "    return ret"
     ],
     "language": "python",
     "metadata": {},
     "outputs": [],
     "prompt_number": 2
    },
    {
     "cell_type": "code",
     "collapsed": false,
     "input": [
      "#parsed = parse_page(url)\n",
      "print json.dumps(parsed[\"predictions\"][0], indent=2)\n",
      "# print json.dumps(parsed[\"teams\"][0], indent=2)\n",
      "# print json.dumps(parsed[\"analytics\"][0], indent=2)\n",
      "print json.dumps(parsed[\"players\"], indent=2)[:300]"
     ],
     "language": "python",
     "metadata": {},
     "outputs": [
      {
       "output_type": "stream",
       "stream": "stdout",
       "text": [
        "{\n",
        "  \"draftday_ratio\": 2.14, \n",
        "  \"fantasy_aces_salary\": 7250, \n",
        "  \"fantasy_score_salary\": 9000, \n",
        "  \"p3m\": \"2.1\", \n",
        "  \"fantasy_feud_fp\": 35.58, \n",
        "  \"p3a\": \"6.5\", \n",
        "  \"draftster_ratio\": 4.61, \n",
        "  \"fantasy_aces_fp\": 41.23, \n",
        "  \"nba_player_id\": \"78\", \n",
        "  \"star_street_salary\": 0, \n",
        "  \"draftster_fp\": 40.58, \n",
        "  \"draft_kings_salary\": 10600, \n",
        "  \"pts\": \"25.9\", \n",
        "  \"fantasy_score_ratio\": 4.77, \n",
        "  \"tov_pct\": \"13.2\", \n",
        "  \"draft_street_daily_salary\": 0, \n",
        "  \"ast_pct\": \"28.3\", \n",
        "  \"stl_pct\": \"1.8\", \n",
        "  \"fanthrowdown_salary\": 0, \n",
        "  \"drtg\": \"109.7\", \n",
        "  \"blk_pct\": \"1.1\", \n",
        "  \"draft_street_daily_ratio\": 0, \n",
        "  \"tov\": \"3.4\", \n",
        "  \"ts\": \"0.573\", \n",
        "  \"fta\": \"8.9\", \n",
        "  \"oreb_pct\": \"2.6\", \n",
        "  \"pf\": \"2.9\", \n",
        "  \"draft_street_daily_fp\": 35.58, \n",
        "  \"blk\": \"0.5\", \n",
        "  \"fantasy_feud_salary\": 153100, \n",
        "  \"fanduel_fp\": 40.98, \n",
        "  \"ftm\": \"8.1\", \n",
        "  \"efg\": \"0.612\", \n",
        "  \"usg\": \"29.6\", \n",
        "  \"draftster_salary\": 8800, \n",
        "  \"draft_kings_ratio\": 4.15, \n",
        "  \"ast\": \"6.0\", \n",
        "  \"season\": \"2015\", \n",
        "  \"fantasy_score_fp\": 42.93, \n",
        "  \"fgm\": \"8.2\", \n",
        "  \"fanthrowdown_ratio\": 0, \n",
        "  \"draftday_salary\": 19750, \n",
        "  \"fantasy_aces_ratio\": 5.69, \n",
        "  \"date\": \"2014-11-16\", \n",
        "  \"nba_game_id\": \"18197\", \n",
        "  \"dreb\": \"4.0\", \n",
        "  \"draftday_fp\": 42.2, \n",
        "  \"fga\": \"18.7\", \n",
        "  \"draft_kings_fp\": 43.98, \n",
        "  \"fanduel_ratio\": 4.02, \n",
        "  \"star_street_ratio\": 0, \n",
        "  \"game_start\": \"1.00\", \n",
        "  \"stl\": \"1.3\", \n",
        "  \"fanduel_salary\": 10200, \n",
        "  \"treb\": 4.9, \n",
        "  \"oreb\": \"0.9\", \n",
        "  \"treb_pct\": \"7.2\", \n",
        "  \"fanthrowdown_fp\": 42.28, \n",
        "  \"nba_team_id\": \"10\", \n",
        "  \"fantasy_feud_ratio\": 0.23, \n",
        "  \"ortg\": \"114.0\", \n",
        "  \"star_street_fp\": 39.73, \n",
        "  \"opponent_id\": \"21\", \n",
        "  \"dreb_pct\": \"11.8\", \n",
        "  \"minutes\": 38.6, \n",
        "  \"game_play_probability\": \"1.00\"\n",
        "}\n",
        "{\n",
        "  \"2185\": {\n",
        "    \"last_name\": \"Canaan\", \n",
        "    \"espn_id\": \"2490589\", \n",
        "    \"weight\": \"188\", \n",
        "    \"depth_position\": \"PG\", \n",
        "    \"number\": \"1\", \n",
        "    \"height\": \"6-0\", \n",
        "    \"team_id\": \"10\", \n",
        "    \"college\": \"\", \n",
        "    \"url\": \"\", \n",
        "    \"id\": \"2185\", \n",
        "    \"sports_reference_id\": \"canaais01\", \n",
        "    \"first_name\": \"I\n"
       ]
      }
     ],
     "prompt_number": 17
    },
    {
     "cell_type": "code",
     "collapsed": false,
     "input": [
      "str(datetime.date.today())"
     ],
     "language": "python",
     "metadata": {},
     "outputs": [
      {
       "metadata": {},
       "output_type": "pyout",
       "prompt_number": 11,
       "text": [
        "'2014-11-16'"
       ]
      }
     ],
     "prompt_number": 11
    },
    {
     "cell_type": "code",
     "collapsed": false,
     "input": [
      "def mongoize_predictions(parsed_site, collection):\n",
      "    predictions = parsed_site[\"predictions\"]\n",
      "    player_data = parsed_site[\"players\"]\n",
      "    document = {\"date\": str(datetime.date.today()), \"processed\":False}\n",
      "    for pred in predictions:\n",
      "        player_entry = player_data[pred[\"nba_player_id\"]]\n",
      "        name = ' '.join( (player_entry[\"first_name\"] + \" \" + player_entry[\"last_name\"]).split('.'))\n",
      "        document[name] = pred\n",
      "    collection.insert(document)  "
     ],
     "language": "python",
     "metadata": {},
     "outputs": [],
     "prompt_number": 28
    },
    {
     "cell_type": "code",
     "collapsed": false,
     "input": [
      "preddb = MongoClient()[\"nba\"][\"predictions\"]\n",
      "mongoize_predictions(parsed, preddb)"
     ],
     "language": "python",
     "metadata": {},
     "outputs": [],
     "prompt_number": 29
    }
   ],
   "metadata": {}
  }
 ]
}